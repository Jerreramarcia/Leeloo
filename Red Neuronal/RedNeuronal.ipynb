{
 "cells": [
  {
   "cell_type": "code",
   "execution_count": 2,
   "id": "bdd854de",
   "metadata": {},
   "outputs": [],
   "source": [
    "import tensorflow as tf\n",
    "import pathlib\n",
    "import os\n",
    "import shutil\n",
    "import numpy as np"
   ]
  },
  {
   "cell_type": "code",
   "execution_count": 2,
   "id": "9e4d281d",
   "metadata": {},
   "outputs": [
    {
     "name": "stdout",
     "output_type": "stream",
     "text": [
      "733\n"
     ]
    }
   ],
   "source": [
    "data_dir = pathlib.Path('imgs2/test/')\n",
    "image_count = len(list(data_dir.glob('*/*.jpg')))\n",
    "print(image_count)"
   ]
  },
  {
   "cell_type": "code",
   "execution_count": 3,
   "id": "f968828d",
   "metadata": {},
   "outputs": [
    {
     "data": {
      "text/plain": [
       "['Apple', 'Banana', 'Tomato', 'Watermelon']"
      ]
     },
     "execution_count": 3,
     "metadata": {},
     "output_type": "execute_result"
    }
   ],
   "source": [
    "batch_size = 32\n",
    "img_height = 224\n",
    "img_width = 224\n",
    "os.listdir(\"imgs2/test/\")"
   ]
  },
  {
   "cell_type": "code",
   "execution_count": 4,
   "id": "a1a1f4d3",
   "metadata": {},
   "outputs": [
    {
     "name": "stdout",
     "output_type": "stream",
     "text": [
      "Found 733 files belonging to 4 classes.\n",
      "Using 587 files for training.\n"
     ]
    }
   ],
   "source": [
    "train_ds = tf.keras.utils.image_dataset_from_directory(\n",
    "  data_dir,\n",
    "  validation_split=0.2,\n",
    "  subset=\"training\",\n",
    "  label_mode='categorical',\n",
    "  seed=123,\n",
    "  image_size=(img_height, img_width),\n",
    "  batch_size=batch_size)"
   ]
  },
  {
   "cell_type": "code",
   "execution_count": 5,
   "id": "4aeca7d7",
   "metadata": {},
   "outputs": [
    {
     "name": "stdout",
     "output_type": "stream",
     "text": [
      "Found 733 files belonging to 4 classes.\n",
      "Using 146 files for validation.\n"
     ]
    }
   ],
   "source": [
    "val_ds = tf.keras.utils.image_dataset_from_directory(\n",
    "  data_dir,\n",
    "  validation_split=0.2,\n",
    "  subset=\"validation\",\n",
    "  label_mode='categorical',\n",
    "  seed=123,\n",
    "  image_size=(img_height, img_width),\n",
    "  batch_size=batch_size)"
   ]
  },
  {
   "cell_type": "code",
   "execution_count": 6,
   "id": "b948b040",
   "metadata": {},
   "outputs": [
    {
     "name": "stdout",
     "output_type": "stream",
     "text": [
      "['Apple', 'Banana', 'Tomato', 'Watermelon']\n"
     ]
    }
   ],
   "source": [
    "class_names = train_ds.class_names\n",
    "print(class_names)"
   ]
  },
  {
   "cell_type": "code",
   "execution_count": 7,
   "id": "6f9ee71f",
   "metadata": {},
   "outputs": [],
   "source": [
    "num_classes = 4"
   ]
  },
  {
   "cell_type": "code",
   "execution_count": 8,
   "id": "dab09820",
   "metadata": {},
   "outputs": [],
   "source": [
    "model = tf.keras.Sequential([\n",
    "  tf.keras.layers.Rescaling(1./255),\n",
    "  tf.keras.layers.Conv2D(32, 3, activation='relu'),\n",
    "  tf.keras.layers.MaxPooling2D(),\n",
    "  tf.keras.layers.Conv2D(32, 3, activation='relu'),\n",
    "  tf.keras.layers.MaxPooling2D(),\n",
    "  tf.keras.layers.Conv2D(32, 3, activation='relu'),\n",
    "  tf.keras.layers.MaxPooling2D(),\n",
    "  tf.keras.layers.Flatten(),\n",
    "  tf.keras.layers.Dense(128, activation='relu'),\n",
    "  tf.keras.layers.Dense(num_classes,activation = \"softmax\")\n",
    "])"
   ]
  },
  {
   "cell_type": "code",
   "execution_count": 9,
   "id": "becc85df",
   "metadata": {},
   "outputs": [],
   "source": [
    "model.compile(\n",
    "  optimizer='adam',\n",
    "  loss=tf.keras.losses.CategoricalCrossentropy(),\n",
    "  metrics=['accuracy'])\n"
   ]
  },
  {
   "cell_type": "code",
   "execution_count": 10,
   "id": "3c0db65b",
   "metadata": {},
   "outputs": [
    {
     "name": "stdout",
     "output_type": "stream",
     "text": [
      "Epoch 1/9\n",
      "19/19 [==============================] - 11s 573ms/step - loss: 0.5512 - accuracy: 0.8228 - val_loss: 0.0062 - val_accuracy: 1.0000\n",
      "Epoch 2/9\n",
      "19/19 [==============================] - 11s 585ms/step - loss: 9.1314e-04 - accuracy: 1.0000 - val_loss: 2.5207e-04 - val_accuracy: 1.0000\n",
      "Epoch 3/9\n",
      "19/19 [==============================] - 11s 585ms/step - loss: 6.5528e-05 - accuracy: 1.0000 - val_loss: 7.7157e-07 - val_accuracy: 1.0000\n",
      "Epoch 4/9\n",
      "19/19 [==============================] - 11s 579ms/step - loss: 1.6497e-05 - accuracy: 1.0000 - val_loss: 3.1354e-07 - val_accuracy: 1.0000\n",
      "Epoch 5/9\n",
      "19/19 [==============================] - 11s 598ms/step - loss: 1.0083e-06 - accuracy: 1.0000 - val_loss: 9.3978e-07 - val_accuracy: 1.0000\n",
      "Epoch 6/9\n",
      "19/19 [==============================] - 11s 589ms/step - loss: 1.2538e-06 - accuracy: 1.0000 - val_loss: 7.9036e-07 - val_accuracy: 1.0000\n",
      "Epoch 7/9\n",
      "19/19 [==============================] - 11s 596ms/step - loss: 9.7397e-07 - accuracy: 1.0000 - val_loss: 5.8053e-07 - val_accuracy: 1.0000\n",
      "Epoch 8/9\n",
      "19/19 [==============================] - 11s 590ms/step - loss: 7.4348e-07 - accuracy: 1.0000 - val_loss: 4.5234e-07 - val_accuracy: 1.0000\n",
      "Epoch 9/9\n",
      "19/19 [==============================] - 11s 593ms/step - loss: 6.0275e-07 - accuracy: 1.0000 - val_loss: 3.6824e-07 - val_accuracy: 1.0000\n"
     ]
    },
    {
     "data": {
      "text/plain": [
       "<keras.callbacks.History at 0x2177cd806d0>"
      ]
     },
     "execution_count": 10,
     "metadata": {},
     "output_type": "execute_result"
    }
   ],
   "source": [
    "model.fit(\n",
    "  train_ds,\n",
    "  validation_data=val_ds,\n",
    "  epochs=9\n",
    ")"
   ]
  },
  {
   "cell_type": "code",
   "execution_count": 11,
   "id": "5458f5e6",
   "metadata": {},
   "outputs": [],
   "source": [
    "model.save('model.h5')"
   ]
  },
  {
   "cell_type": "code",
   "execution_count": 3,
   "id": "df1019c1",
   "metadata": {},
   "outputs": [],
   "source": [
    "img_height = 224\n",
    "img_width = 224\n",
    "model = tf.keras.models.load_model('model.h5')\n",
    "class_names = ['Apple', 'Banana', 'Tomato', 'Watermelon']"
   ]
  },
  {
   "cell_type": "code",
   "execution_count": 5,
   "id": "7122e4e8",
   "metadata": {},
   "outputs": [
    {
     "name": "stdout",
     "output_type": "stream",
     "text": [
      "1/1 [==============================] - 0s 19ms/step\n",
      "[[4.2113775e-04 1.5086234e-02 9.8449266e-01 8.2511781e-10]]\n",
      "La imagen es un/a Tomato con un 98.45 porciento de confianza.\n"
     ]
    }
   ],
   "source": [
    "tomate_path = 'tomate.jpg'\n",
    "img = tf.keras.utils.load_img(\n",
    "    tomate_path, target_size=(img_height, img_width)\n",
    ")\n",
    "img_array = tf.keras.utils.img_to_array(img)\n",
    "img_array = tf.expand_dims(img_array, 0) \n",
    "predictions = model.predict(img_array)\n",
    "print(predictions)\n",
    "\n",
    "print(\n",
    "    \"La imagen es un/a {} con un {:.2f} porciento de confianza.\"\n",
    "    .format(class_names[np.argmax(predictions)], 100 * np.max(predictions))\n",
    ")"
   ]
  },
  {
   "cell_type": "code",
   "execution_count": 6,
   "id": "9191dd48",
   "metadata": {},
   "outputs": [
    {
     "name": "stdout",
     "output_type": "stream",
     "text": [
      "1/1 [==============================] - 0s 22ms/step\n",
      "[[6.5699567e-07 9.9999869e-01 2.2927443e-21 5.5141851e-07]]\n",
      "La imagen es un/a Banana con un 100.00 porciento de confianza.\n"
     ]
    }
   ],
   "source": [
    "platano_path = 'platano.jpg'\n",
    "img = tf.keras.utils.load_img(\n",
    "    platano_path, target_size=(img_height, img_width)\n",
    ")\n",
    "img_array = tf.keras.utils.img_to_array(img)\n",
    "img_array = tf.expand_dims(img_array, 0) # Create a batch\n",
    "\n",
    "predictions = model.predict(img_array)\n",
    "print(predictions)\n",
    "\n",
    "print(\n",
    "    \"La imagen es un/a {} con un {:.2f} porciento de confianza.\"\n",
    "    .format(class_names[np.argmax(predictions)], 100 * np.max(predictions))\n",
    ")"
   ]
  },
  {
   "cell_type": "code",
   "execution_count": 7,
   "id": "aff3b5e9",
   "metadata": {},
   "outputs": [
    {
     "name": "stdout",
     "output_type": "stream",
     "text": [
      "1/1 [==============================] - 0s 20ms/step\n",
      "[[9.8426855e-01 1.5731040e-02 1.3315485e-10 4.1940135e-07]]\n",
      "La imagen es un/a Apple con un 98.43 porciento de confianza.\n"
     ]
    }
   ],
   "source": [
    "apple_path = 'manzanas.jpg'\n",
    "img = tf.keras.utils.load_img(\n",
    "    apple_path, target_size=(img_height, img_width)\n",
    ")\n",
    "img_array = tf.keras.utils.img_to_array(img)\n",
    "img_array = tf.expand_dims(img_array, 0) # Create a batch\n",
    "\n",
    "predictions = model.predict(img_array)\n",
    "print(predictions)\n",
    "\n",
    "print(\n",
    "    \"La imagen es un/a {} con un {:.2f} porciento de confianza.\"\n",
    "    .format(class_names[np.argmax(predictions)], 100 * np.max(predictions))\n",
    ")"
   ]
  },
  {
   "cell_type": "code",
   "execution_count": 14,
   "id": "23949929",
   "metadata": {},
   "outputs": [
    {
     "name": "stdout",
     "output_type": "stream",
     "text": [
      "1/1 [==============================] - 0s 22ms/step\n",
      "[[5.1081568e-01 2.8283853e-02 1.6886135e-07 4.6090031e-01]]\n",
      "La imagen es un/a Watermelon con un 51.08 porciento de confianza.\n"
     ]
    }
   ],
   "source": [
    "watermelon_path = 'watermelon.jpg'\n",
    "img = tf.keras.utils.load_img(\n",
    "    watermelon_path, target_size=(img_height, img_width)\n",
    ")\n",
    "img_array = tf.keras.utils.img_to_array(img)\n",
    "img_array = tf.expand_dims(img_array, 0) # Create a batch\n",
    "\n",
    "predictions = model.predict(img_array)\n",
    "print(predictions)\n",
    "\n",
    "print(\n",
    "    \"La imagen es un/a {} con un {:.2f} porciento de confianza.\"\n",
    "    .format(class_names[np.argmax(predictions)], 100 * np.max(predictions))\n",
    ")"
   ]
  },
  {
   "cell_type": "code",
   "execution_count": null,
   "id": "266ba62e",
   "metadata": {},
   "outputs": [],
   "source": []
  }
 ],
 "metadata": {
  "kernelspec": {
   "display_name": "Python 3 (ipykernel)",
   "language": "python",
   "name": "python3"
  },
  "language_info": {
   "codemirror_mode": {
    "name": "ipython",
    "version": 3
   },
   "file_extension": ".py",
   "mimetype": "text/x-python",
   "name": "python",
   "nbconvert_exporter": "python",
   "pygments_lexer": "ipython3",
   "version": "3.8.2"
  }
 },
 "nbformat": 4,
 "nbformat_minor": 5
}
